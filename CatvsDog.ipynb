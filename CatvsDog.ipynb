{
  "nbformat": 4,
  "nbformat_minor": 0,
  "metadata": {
    "colab": {
      "name": "CatvsDog.ipynb",
      "provenance": [],
      "collapsed_sections": [],
      "authorship_tag": "ABX9TyP9gkLZGEW0++1Uq9FW0LsP",
      "include_colab_link": true
    },
    "kernelspec": {
      "name": "python3",
      "display_name": "Python 3"
    },
    "language_info": {
      "name": "python"
    }
  },
  "cells": [
    {
      "cell_type": "markdown",
      "metadata": {
        "id": "view-in-github",
        "colab_type": "text"
      },
      "source": [
        "<a href=\"https://colab.research.google.com/github/alexvishnevskiy/PetFinder/blob/master/CatvsDog.ipynb\" target=\"_parent\"><img src=\"https://colab.research.google.com/assets/colab-badge.svg\" alt=\"Open In Colab\"/></a>"
      ]
    },
    {
      "cell_type": "code",
      "metadata": {
        "colab": {
          "base_uri": "https://localhost:8080/"
        },
        "id": "0tbO9M0UK4-x",
        "outputId": "417af375-a3c1-4d5b-8eb4-a63a6fedd717"
      },
      "source": [
        "from google.colab import drive\n",
        "drive.mount('/content/drive')"
      ],
      "execution_count": 1,
      "outputs": [
        {
          "output_type": "stream",
          "name": "stdout",
          "text": [
            "Mounted at /content/drive\n"
          ]
        }
      ]
    },
    {
      "cell_type": "code",
      "metadata": {
        "id": "hgj2VArUK9zV"
      },
      "source": [
        "!git clone https://github.com/amitrajitbose/cat-v-dog-classifier-pytorch.git\n",
        "%cd /content/cat-v-dog-classifier-pytorch"
      ],
      "execution_count": null,
      "outputs": []
    },
    {
      "cell_type": "code",
      "metadata": {
        "id": "arwzTEm8MAqz"
      },
      "source": [
        "!unzip \"/content/drive/MyDrive/PetFinder/petfinder-pawpularity-score.zip\" -d \"/content\""
      ],
      "execution_count": null,
      "outputs": []
    },
    {
      "cell_type": "code",
      "metadata": {
        "id": "2F8QkCtRLjlJ"
      },
      "source": [
        "import sys\n",
        "sys.path.append('/content/cat-v-dog-classifier-pytorch')\n",
        " \n",
        "#from predict import predict\n",
        "import cv2\n",
        "import pandas as pd\n",
        "import os\n",
        "from tqdm import tqdm\n",
        "tqdm.pandas()"
      ],
      "execution_count": 3,
      "outputs": []
    },
    {
      "cell_type": "code",
      "metadata": {
        "id": "GG0uZdj92kdj"
      },
      "source": [
        "df = pd.read_csv('/content/drive/MyDrive/PetFinder/train_dogs_cats.csv')"
      ],
      "execution_count": 4,
      "outputs": []
    },
    {
      "cell_type": "code",
      "metadata": {
        "id": "QD6sf0SDL7g_"
      },
      "source": [
        "csv_path = '/content/train.csv'\n",
        "photo_path = '/content/train'\n",
        "df = pd.read_csv(csv_path)\n",
        "df.loc[:, 'path'] = (\n",
        "        df['Id']\n",
        "        .apply(lambda x: os.path.join(photo_path, f'{x}.jpg'))\n",
        "        )\n",
        "df.loc[:, 'class'] = (\n",
        "    df['path'].progress_apply(lambda x: predict(x)['class'])\n",
        ")"
      ],
      "execution_count": 69,
      "outputs": []
    },
    {
      "cell_type": "code",
      "metadata": {
        "id": "Lfqrwv45B_TL"
      },
      "source": [
        "for i, row in df.iterrows():\n",
        "  fig,ax = plt.subplots(figsize=(20,20), ncols=1)\n",
        "  ax.imshow(cv2.imread(row['path']))\n",
        "  ax.text(10, 10, row['class'], bbox={'facecolor': 'white', 'pad': 10})\n",
        "  if i == 20: break"
      ],
      "execution_count": null,
      "outputs": []
    },
    {
      "cell_type": "code",
      "metadata": {
        "id": "f8IbE-4slTCi"
      },
      "source": [
        "df.to_csv('/content/drive/MyDrive/PetFinder/train_dogs_cats.csv', index = False)"
      ],
      "execution_count": 86,
      "outputs": []
    }
  ]
}